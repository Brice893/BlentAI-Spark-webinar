{
  "nbformat": 4,
  "nbformat_minor": 0,
  "metadata": {
    "colab": {
      "provenance": []
    },
    "kernelspec": {
      "name": "python3",
      "display_name": "Python 3"
    }
  },
  "cells": [
    {
      "cell_type": "markdown",
      "metadata": {
        "id": "IEsnRnB67wun"
      },
      "source": [
        "<div align=\"center\">\n",
        "  <a href=\"https://blent.ai\">\n",
        "    <img src=\"https://blent-static-media.s3.eu-west-3.amazonaws.com/images/logo/logo_blent_300x.png\" alt=\"Logo Blent.ai\" width=\"200\" />\n",
        "  </a>\n",
        "</div>\n",
        "\n",
        "# Les indispensables du Data Engineer - Hadoop & Spark"
      ]
    },
    {
      "cell_type": "code",
      "metadata": {
        "id": "-6pBoN-b6-qb",
        "colab": {
          "base_uri": "https://localhost:8080/"
        },
        "outputId": "33678db0-9679-4a21-ccf9-ec9cf5c91874"
      },
      "source": [
        "import sys\n",
        "\n",
        "# Permet de savoir si on s'exécute dans Google Colab\n",
        "IN_COLAB = 'google.colab' in sys.modules\n",
        "\n",
        "if IN_COLAB:\n",
        "    !apt-get update -qq > /dev/null && apt-get install openjdk-8-jdk-headless -qq > /dev/null\n",
        "    !wget -q https://downloads.apache.org/spark/spark-3.4.0/spark-3.4.0-bin-hadoop3.tgz\n",
        "    !tar xf spark-3.4.0-bin-hadoop3.tgz\n",
        "    !pip install -q findspark pyspark\n",
        "    # Cette cellule peut prendre 2 à 3 minutes pour s'exécuter"
      ],
      "execution_count": 1,
      "outputs": [
        {
          "output_type": "stream",
          "name": "stdout",
          "text": [
            "\u001b[2K     \u001b[90m━━━━━━━━━━━━━━━━━━━━━━━━━━━━━━━━━━━━━━━\u001b[0m \u001b[32m310.8/310.8 MB\u001b[0m \u001b[31m4.7 MB/s\u001b[0m eta \u001b[36m0:00:00\u001b[0m\n",
            "\u001b[?25h  Preparing metadata (setup.py) ... \u001b[?25l\u001b[?25hdone\n",
            "  Building wheel for pyspark (setup.py) ... \u001b[?25l\u001b[?25hdone\n"
          ]
        }
      ]
    },
    {
      "cell_type": "code",
      "metadata": {
        "id": "hGmWMYQ87Hoq",
        "colab": {
          "base_uri": "https://localhost:8080/"
        },
        "outputId": "998071fa-168f-4616-868d-fb54ad266ce8"
      },
      "source": [
        "import os\n",
        "import numpy as np\n",
        "import pandas as pd\n",
        "import matplotlib.pyplot as plt\n",
        "import seaborn as sns\n",
        "\n",
        "from pyspark.sql import SparkSession, SQLContext\n",
        "from pyspark import SparkContext\n",
        "\n",
        "if IN_COLAB:\n",
        "    import findspark\n",
        "\n",
        "    os.environ[\"JAVA_HOME\"] = \"/usr/lib/jvm/java-8-openjdk-amd64\"\n",
        "    # Spécifie le chemin où est stocké Spark\n",
        "    os.environ[\"SPARK_HOME\"] = \"/content/spark-3.4.0-bin-hadoop3\"\n",
        "\n",
        "    findspark.init()  # Trouve les exécutables dans le dossier SPARK_HOME\n",
        "\n",
        "    sc = SparkContext(\"local\")  # Crée un SparkContext local\n",
        "\n",
        "sql_c = SQLContext(sc)"
      ],
      "execution_count": 2,
      "outputs": [
        {
          "output_type": "stream",
          "name": "stderr",
          "text": [
            "/usr/local/lib/python3.10/dist-packages/pyspark/sql/context.py:112: FutureWarning: Deprecated in 3.0.0. Use SparkSession.builder.getOrCreate() instead.\n",
            "  warnings.warn(\n"
          ]
        }
      ]
    },
    {
      "cell_type": "markdown",
      "metadata": {
        "id": "L1HHagv68HfM"
      },
      "source": [
        "Spark est maintenant exécuté en local sur Google Colab !"
      ]
    },
    {
      "cell_type": "markdown",
      "metadata": {
        "id": "WhZ8VMb2Bv1w"
      },
      "source": [
        "## Récupération des données"
      ]
    },
    {
      "cell_type": "code",
      "metadata": {
        "id": "p9xUUVXY8vEz",
        "colab": {
          "base_uri": "https://localhost:8080/"
        },
        "outputId": "4328df8b-e325-4242-ae9e-3b8812e46bf3"
      },
      "source": [
        "!wget https://blent-learning-user-ressources.s3.eu-west-3.amazonaws.com/files/workshop_sql_sample.tar.xz && tar -xf workshop_sql_sample.tar.xz\n",
        "!rm workshop_sql_sample.tar.xz && mv workshop_sql_sample.csv data.csv\n",
        "\n",
        "if IN_COLAB:\n",
        "    !hadoop fs -copyFromLocal data.csv /user/admin/data.csv"
      ],
      "execution_count": 4,
      "outputs": [
        {
          "output_type": "stream",
          "name": "stdout",
          "text": [
            "--2023-06-22 11:29:26--  https://blent-learning-user-ressources.s3.eu-west-3.amazonaws.com/files/workshop_sql_sample.tar.xz\n",
            "Resolving blent-learning-user-ressources.s3.eu-west-3.amazonaws.com (blent-learning-user-ressources.s3.eu-west-3.amazonaws.com)... 16.12.20.2\n",
            "Connecting to blent-learning-user-ressources.s3.eu-west-3.amazonaws.com (blent-learning-user-ressources.s3.eu-west-3.amazonaws.com)|16.12.20.2|:443... connected.\n",
            "HTTP request sent, awaiting response... 200 OK\n",
            "Length: 125605728 (120M) [application/x-www-form-urlencoded]\n",
            "Saving to: ‘workshop_sql_sample.tar.xz’\n",
            "\n",
            "workshop_sql_sample 100%[===================>] 119.79M  28.2MB/s    in 4.8s    \n",
            "\n",
            "2023-06-22 11:29:31 (24.7 MB/s) - ‘workshop_sql_sample.tar.xz’ saved [125605728/125605728]\n",
            "\n",
            "/bin/bash: hadoop: command not found\n"
          ]
        }
      ]
    },
    {
      "cell_type": "code",
      "metadata": {
        "id": "puWQhXDmkBRZ",
        "colab": {
          "base_uri": "https://localhost:8080/"
        },
        "outputId": "b30d85ec-892c-4c36-89a3-1f8c5503b443"
      },
      "source": [
        "data = sql_c.read.csv(\n",
        "    os.path.expanduser(\"data.csv\") if IN_COLAB else \"/user/admin/data.csv\",\n",
        "    header=True\n",
        ").drop(\"_c0\")\n",
        "data.printSchema()"
      ],
      "execution_count": 5,
      "outputs": [
        {
          "output_type": "stream",
          "name": "stdout",
          "text": [
            "root\n",
            " |-- event_time: string (nullable = true)\n",
            " |-- event_type: string (nullable = true)\n",
            " |-- product_id: string (nullable = true)\n",
            " |-- category_id: string (nullable = true)\n",
            " |-- category_code: string (nullable = true)\n",
            " |-- brand: string (nullable = true)\n",
            " |-- price: string (nullable = true)\n",
            " |-- user_id: string (nullable = true)\n",
            " |-- user_session: string (nullable = true)\n",
            "\n"
          ]
        }
      ]
    },
    {
      "cell_type": "markdown",
      "metadata": {
        "id": "xo3lWffXlrhT"
      },
      "source": [
        "Par défaut, Spark ne fait aucune conversion implicite des colonnes."
      ]
    },
    {
      "cell_type": "code",
      "metadata": {
        "id": "KduPRuvokFEq",
        "colab": {
          "base_uri": "https://localhost:8080/"
        },
        "outputId": "66429f07-a0d5-4b59-afd4-9710be51e5c2"
      },
      "source": [
        "from pyspark.sql import functions as func\n",
        "\n",
        "data = data \\\n",
        "    .withColumn(\"event_time\", func.col(\"event_time\").cast(\"timestamp\")) \\\n",
        "    .withColumn(\"product_id\", func.col(\"product_id\").cast(\"int\")) \\\n",
        "    .withColumn(\"price\", func.col(\"price\").cast(\"float\")) \\\n",
        "    .withColumn(\"user_id\", func.col(\"user_id\").cast(\"int\"))\n",
        "data.printSchema()"
      ],
      "execution_count": 6,
      "outputs": [
        {
          "output_type": "stream",
          "name": "stdout",
          "text": [
            "root\n",
            " |-- event_time: timestamp (nullable = true)\n",
            " |-- event_type: string (nullable = true)\n",
            " |-- product_id: integer (nullable = true)\n",
            " |-- category_id: string (nullable = true)\n",
            " |-- category_code: string (nullable = true)\n",
            " |-- brand: string (nullable = true)\n",
            " |-- price: float (nullable = true)\n",
            " |-- user_id: integer (nullable = true)\n",
            " |-- user_session: string (nullable = true)\n",
            "\n"
          ]
        }
      ]
    },
    {
      "cell_type": "markdown",
      "metadata": {
        "id": "Pz7zotK3lhiP"
      },
      "source": [
        "Tout comme la fonction `head` avec `pandas`, affichons les premières lignes."
      ]
    },
    {
      "cell_type": "code",
      "metadata": {
        "id": "J-UGqIbNlU-F",
        "colab": {
          "base_uri": "https://localhost:8080/"
        },
        "outputId": "9a5c4cff-db26-4032-8005-ef208c1417b5"
      },
      "source": [
        "data.show()"
      ],
      "execution_count": 7,
      "outputs": [
        {
          "output_type": "stream",
          "name": "stdout",
          "text": [
            "+-------------------+----------+----------+-------------------+--------------------+--------+-------+---------+--------------------+\n",
            "|         event_time|event_type|product_id|        category_id|       category_code|   brand|  price|  user_id|        user_session|\n",
            "+-------------------+----------+----------+-------------------+--------------------+--------+-------+---------+--------------------+\n",
            "|2019-10-01 00:00:00|      view|  44600062|2103807459595387724|                null|shiseido|  35.79|541312140|72d76fde-8bb3-4e0...|\n",
            "|2019-10-01 00:00:00|      view|   3900821|2053013552326770905|appliances.enviro...|    aqua|   33.2|554748717|9333dfbd-b87a-470...|\n",
            "|2019-10-01 00:00:01|      view|  17200506|2053013559792632471|furniture.living_...|    null|  543.1|519107250|566511c2-e2e3-422...|\n",
            "|2019-10-01 00:00:01|      view|   1307067|2053013558920217191|  computers.notebook|  lenovo| 251.74|550050854|7c90fc70-0e80-459...|\n",
            "|2019-10-01 00:00:04|      view|   1004237|2053013555631882655|electronics.smart...|   apple|1081.98|535871217|c6bd7419-2748-4c5...|\n",
            "|2019-10-01 00:00:05|      view|   1480613|2053013561092866779|   computers.desktop|  pulser| 908.62|512742880|0d0d91c2-c9c2-4e8...|\n",
            "|2019-10-01 00:00:08|      view|  17300353|2053013553853497655|                null|   creed| 380.96|555447699|4fe811e9-91de-46d...|\n",
            "|2019-10-01 00:00:08|      view|  31500053|2053013558031024687|                null|luminarc|  41.16|550978835|6280d577-25c8-414...|\n",
            "|2019-10-01 00:00:10|      view|  28719074|2053013565480109009|  apparel.shoes.keds|   baden| 102.71|520571932|ac1cd4e5-a3ce-422...|\n",
            "|2019-10-01 00:00:11|      view|   1004545|2053013555631882655|electronics.smart...|  huawei| 566.01|537918940|406c46ed-90a4-478...|\n",
            "|2019-10-01 00:00:11|      view|   2900536|2053013554776244595|appliances.kitche...|elenberg|  51.46|555158050|b5bdd0b3-4ca2-4c5...|\n",
            "|2019-10-01 00:00:11|      view|   1005011|2053013555631882655|electronics.smart...| samsung| 900.64|530282093|50a293fb-5940-41b...|\n",
            "|2019-10-01 00:00:13|      view|   3900746|2053013552326770905|appliances.enviro...|   haier| 102.38|555444559|98b88fa0-d8fa-4b9...|\n",
            "|2019-10-01 00:00:15|      view|  44600062|2103807459595387724|                null|shiseido|  35.79|541312140|72d76fde-8bb3-4e0...|\n",
            "|2019-10-01 00:00:16|      view|  13500240|2053013557099889147|furniture.bedroom...|     brw|  93.18|555446365|7f0062d8-ead0-4e0...|\n",
            "|2019-10-01 00:00:17|      view|  23100006|2053013561638126333|                null|    null| 357.79|513642368|17566c27-0a8f-450...|\n",
            "|2019-10-01 00:00:18|      view|   1801995|2053013554415534427|electronics.video.tv|   haier| 193.03|537192226|e3151795-c355-4ef...|\n",
            "|2019-10-01 00:00:18|      view|  10900029|2053013555069845885|appliances.kitche...|   bosch|  58.95|519528062|901b9e3c-3f8f-414...|\n",
            "|2019-10-01 00:00:19|      view|   1306631|2053013558920217191|  computers.notebook|      hp| 580.89|550050854|7c90fc70-0e80-459...|\n",
            "|2019-10-01 00:00:19|      view|   1005135|2053013555631882655|electronics.smart...|   apple|1747.79|535871217|c6bd7419-2748-4c5...|\n",
            "+-------------------+----------+----------+-------------------+--------------------+--------+-------+---------+--------------------+\n",
            "only showing top 20 rows\n",
            "\n"
          ]
        }
      ]
    },
    {
      "cell_type": "markdown",
      "metadata": {
        "id": "5dk_r710sIBA"
      },
      "source": [
        "Nous pouvons également compter le nombre de lignes."
      ]
    },
    {
      "cell_type": "code",
      "metadata": {
        "id": "3Wh-L1PrsKaP",
        "colab": {
          "base_uri": "https://localhost:8080/"
        },
        "outputId": "81c0497e-7f92-4a9c-a1cb-a3661d0caa68"
      },
      "source": [
        "data.count()"
      ],
      "execution_count": 8,
      "outputs": [
        {
          "output_type": "execute_result",
          "data": {
            "text/plain": [
              "8829315"
            ]
          },
          "metadata": {},
          "execution_count": 8
        }
      ]
    },
    {
      "cell_type": "markdown",
      "metadata": {
        "id": "P340oXy8mRYJ"
      },
      "source": [
        "Essayons de reproduire le code de comptabilisation du nombre d'événements par utilisateur."
      ]
    },
    {
      "cell_type": "code",
      "metadata": {
        "id": "EdO7liLPmX1I"
      },
      "source": [
        "count_events = data \\\n",
        "  .groupBy(\"user_id\") \\\n",
        "  .agg(\n",
        "      func.count(\"event_type\").alias(\"count\")\n",
        "  )"
      ],
      "execution_count": 9,
      "outputs": []
    },
    {
      "cell_type": "code",
      "metadata": {
        "id": "Ii4SKhEBopO1",
        "colab": {
          "base_uri": "https://localhost:8080/"
        },
        "outputId": "fdb26c10-bb37-4ba6-dabc-514db1b7c71e"
      },
      "source": [
        "count_events.show()"
      ],
      "execution_count": 10,
      "outputs": [
        {
          "output_type": "stream",
          "name": "stdout",
          "text": [
            "+---------+-----+\n",
            "|  user_id|count|\n",
            "+---------+-----+\n",
            "|555447570|    9|\n",
            "|524493281|    4|\n",
            "|543091275|    8|\n",
            "|509481306|    1|\n",
            "|513992906|    2|\n",
            "|539234006|    7|\n",
            "|518093424|    9|\n",
            "|552509284|   45|\n",
            "|513431118|   69|\n",
            "|515959651|    2|\n",
            "|545114128|    4|\n",
            "|555464935|    4|\n",
            "|517597867|   43|\n",
            "|546839974|   13|\n",
            "|530039999|    8|\n",
            "|529847028|    5|\n",
            "|553649979|    6|\n",
            "|515687124|   14|\n",
            "|515772044|    2|\n",
            "|516400912|    7|\n",
            "+---------+-----+\n",
            "only showing top 20 rows\n",
            "\n"
          ]
        }
      ]
    },
    {
      "cell_type": "markdown",
      "metadata": {
        "id": "_92elEOMo3jd"
      },
      "source": [
        "## Comptabiliser le nombre d'achats et de vues par utilisateur"
      ]
    },
    {
      "cell_type": "code",
      "metadata": {
        "id": "nKEjivMEpTGt",
        "colab": {
          "base_uri": "https://localhost:8080/"
        },
        "outputId": "eb24efd5-bdd9-496c-bc41-0446e8f7d39a"
      },
      "source": [
        "data_sessions = data.filter(func.col(\"user_session\").isNotNull())\n",
        "\n",
        "events_per_session = data \\\n",
        "  .withColumn(\n",
        "      \"purchased\",\n",
        "      func.when(func.col(\"event_type\") == \"purchase\", 1).otherwise(0)\n",
        "  ) \\\n",
        "  .withColumn(\n",
        "      \"num_views\",\n",
        "      func.when(func.col(\"event_type\") == \"view\", 1).otherwise(0)\n",
        "  ) \\\n",
        "  .groupBy(\"user_id\") \\\n",
        "  .agg(\n",
        "      func.sum(\"purchased\").alias(\"purchased\"),\n",
        "      func.sum(\"num_views\").alias(\"num_views\")\n",
        "  )\n",
        "\n",
        "events_per_session.show()"
      ],
      "execution_count": 11,
      "outputs": [
        {
          "output_type": "stream",
          "name": "stdout",
          "text": [
            "+---------+---------+---------+\n",
            "|  user_id|purchased|num_views|\n",
            "+---------+---------+---------+\n",
            "|555447570|        0|        9|\n",
            "|524493281|        0|        4|\n",
            "|543091275|        0|        8|\n",
            "|509481306|        0|        1|\n",
            "|513992906|        0|        2|\n",
            "|539234006|        0|        7|\n",
            "|518093424|        1|        8|\n",
            "|552509284|        0|       45|\n",
            "|513431118|        0|       69|\n",
            "|515959651|        0|        2|\n",
            "|545114128|        0|        4|\n",
            "|555464935|        0|        4|\n",
            "|517597867|        0|       43|\n",
            "|546839974|        4|        9|\n",
            "|530039999|        0|        8|\n",
            "|529847028|        0|        5|\n",
            "|553649979|        0|        6|\n",
            "|515687124|        0|       14|\n",
            "|515772044|        0|        2|\n",
            "|516400912|        0|        7|\n",
            "+---------+---------+---------+\n",
            "only showing top 20 rows\n",
            "\n"
          ]
        }
      ]
    },
    {
      "cell_type": "markdown",
      "metadata": {
        "id": "xH83nIrveCj9"
      },
      "source": [
        "## Fréquence des événements\n",
        "\n",
        "Calculer le nombre d'événéments survenus à chaque heure."
      ]
    },
    {
      "cell_type": "code",
      "metadata": {
        "id": "gyznOlRdeEIg"
      },
      "source": [
        "data_freq = data \\\n",
        "  .withColumn(\"hour\", func.hour(\"event_time\")) \\\n",
        "  .groupBy(\"hour\") \\\n",
        "  .count() \\\n",
        "  .toPandas()"
      ],
      "execution_count": 12,
      "outputs": []
    },
    {
      "cell_type": "code",
      "source": [
        "data_freq.head()"
      ],
      "metadata": {
        "colab": {
          "base_uri": "https://localhost:8080/",
          "height": 206
        },
        "id": "QQF4VSPOg_FW",
        "outputId": "8cfe46d0-a529-47d2-9c1d-5045b58b6d8d"
      },
      "execution_count": 13,
      "outputs": [
        {
          "output_type": "execute_result",
          "data": {
            "text/plain": [
              "   hour   count\n",
              "0    12  447321\n",
              "1     1  108448\n",
              "2    13  479914\n",
              "3     6  468183\n",
              "4    16  650924"
            ],
            "text/html": [
              "\n",
              "  <div id=\"df-72589779-d494-496a-97f2-40cc81209de2\">\n",
              "    <div class=\"colab-df-container\">\n",
              "      <div>\n",
              "<style scoped>\n",
              "    .dataframe tbody tr th:only-of-type {\n",
              "        vertical-align: middle;\n",
              "    }\n",
              "\n",
              "    .dataframe tbody tr th {\n",
              "        vertical-align: top;\n",
              "    }\n",
              "\n",
              "    .dataframe thead th {\n",
              "        text-align: right;\n",
              "    }\n",
              "</style>\n",
              "<table border=\"1\" class=\"dataframe\">\n",
              "  <thead>\n",
              "    <tr style=\"text-align: right;\">\n",
              "      <th></th>\n",
              "      <th>hour</th>\n",
              "      <th>count</th>\n",
              "    </tr>\n",
              "  </thead>\n",
              "  <tbody>\n",
              "    <tr>\n",
              "      <th>0</th>\n",
              "      <td>12</td>\n",
              "      <td>447321</td>\n",
              "    </tr>\n",
              "    <tr>\n",
              "      <th>1</th>\n",
              "      <td>1</td>\n",
              "      <td>108448</td>\n",
              "    </tr>\n",
              "    <tr>\n",
              "      <th>2</th>\n",
              "      <td>13</td>\n",
              "      <td>479914</td>\n",
              "    </tr>\n",
              "    <tr>\n",
              "      <th>3</th>\n",
              "      <td>6</td>\n",
              "      <td>468183</td>\n",
              "    </tr>\n",
              "    <tr>\n",
              "      <th>4</th>\n",
              "      <td>16</td>\n",
              "      <td>650924</td>\n",
              "    </tr>\n",
              "  </tbody>\n",
              "</table>\n",
              "</div>\n",
              "      <button class=\"colab-df-convert\" onclick=\"convertToInteractive('df-72589779-d494-496a-97f2-40cc81209de2')\"\n",
              "              title=\"Convert this dataframe to an interactive table.\"\n",
              "              style=\"display:none;\">\n",
              "        \n",
              "  <svg xmlns=\"http://www.w3.org/2000/svg\" height=\"24px\"viewBox=\"0 0 24 24\"\n",
              "       width=\"24px\">\n",
              "    <path d=\"M0 0h24v24H0V0z\" fill=\"none\"/>\n",
              "    <path d=\"M18.56 5.44l.94 2.06.94-2.06 2.06-.94-2.06-.94-.94-2.06-.94 2.06-2.06.94zm-11 1L8.5 8.5l.94-2.06 2.06-.94-2.06-.94L8.5 2.5l-.94 2.06-2.06.94zm10 10l.94 2.06.94-2.06 2.06-.94-2.06-.94-.94-2.06-.94 2.06-2.06.94z\"/><path d=\"M17.41 7.96l-1.37-1.37c-.4-.4-.92-.59-1.43-.59-.52 0-1.04.2-1.43.59L10.3 9.45l-7.72 7.72c-.78.78-.78 2.05 0 2.83L4 21.41c.39.39.9.59 1.41.59.51 0 1.02-.2 1.41-.59l7.78-7.78 2.81-2.81c.8-.78.8-2.07 0-2.86zM5.41 20L4 18.59l7.72-7.72 1.47 1.35L5.41 20z\"/>\n",
              "  </svg>\n",
              "      </button>\n",
              "      \n",
              "  <style>\n",
              "    .colab-df-container {\n",
              "      display:flex;\n",
              "      flex-wrap:wrap;\n",
              "      gap: 12px;\n",
              "    }\n",
              "\n",
              "    .colab-df-convert {\n",
              "      background-color: #E8F0FE;\n",
              "      border: none;\n",
              "      border-radius: 50%;\n",
              "      cursor: pointer;\n",
              "      display: none;\n",
              "      fill: #1967D2;\n",
              "      height: 32px;\n",
              "      padding: 0 0 0 0;\n",
              "      width: 32px;\n",
              "    }\n",
              "\n",
              "    .colab-df-convert:hover {\n",
              "      background-color: #E2EBFA;\n",
              "      box-shadow: 0px 1px 2px rgba(60, 64, 67, 0.3), 0px 1px 3px 1px rgba(60, 64, 67, 0.15);\n",
              "      fill: #174EA6;\n",
              "    }\n",
              "\n",
              "    [theme=dark] .colab-df-convert {\n",
              "      background-color: #3B4455;\n",
              "      fill: #D2E3FC;\n",
              "    }\n",
              "\n",
              "    [theme=dark] .colab-df-convert:hover {\n",
              "      background-color: #434B5C;\n",
              "      box-shadow: 0px 1px 3px 1px rgba(0, 0, 0, 0.15);\n",
              "      filter: drop-shadow(0px 1px 2px rgba(0, 0, 0, 0.3));\n",
              "      fill: #FFFFFF;\n",
              "    }\n",
              "  </style>\n",
              "\n",
              "      <script>\n",
              "        const buttonEl =\n",
              "          document.querySelector('#df-72589779-d494-496a-97f2-40cc81209de2 button.colab-df-convert');\n",
              "        buttonEl.style.display =\n",
              "          google.colab.kernel.accessAllowed ? 'block' : 'none';\n",
              "\n",
              "        async function convertToInteractive(key) {\n",
              "          const element = document.querySelector('#df-72589779-d494-496a-97f2-40cc81209de2');\n",
              "          const dataTable =\n",
              "            await google.colab.kernel.invokeFunction('convertToInteractive',\n",
              "                                                     [key], {});\n",
              "          if (!dataTable) return;\n",
              "\n",
              "          const docLinkHtml = 'Like what you see? Visit the ' +\n",
              "            '<a target=\"_blank\" href=https://colab.research.google.com/notebooks/data_table.ipynb>data table notebook</a>'\n",
              "            + ' to learn more about interactive tables.';\n",
              "          element.innerHTML = '';\n",
              "          dataTable['output_type'] = 'display_data';\n",
              "          await google.colab.output.renderOutput(dataTable, element);\n",
              "          const docLink = document.createElement('div');\n",
              "          docLink.innerHTML = docLinkHtml;\n",
              "          element.appendChild(docLink);\n",
              "        }\n",
              "      </script>\n",
              "    </div>\n",
              "  </div>\n",
              "  "
            ]
          },
          "metadata": {},
          "execution_count": 13
        }
      ]
    },
    {
      "cell_type": "code",
      "metadata": {
        "id": "sVcE2zgZeiZz",
        "colab": {
          "base_uri": "https://localhost:8080/",
          "height": 850
        },
        "outputId": "21350f41-2e02-433b-8a11-695bc28968f4"
      },
      "source": [
        "plt.figure(figsize=(16, 10))\n",
        "sns.barplot(x=\"hour\", y=\"count\", data=data_freq)\n",
        "plt.show()"
      ],
      "execution_count": 14,
      "outputs": [
        {
          "output_type": "display_data",
          "data": {
            "text/plain": [
              "<Figure size 1600x1000 with 1 Axes>"
            ],
            "image/png": "[encoded data removed]"
          },
          "metadata": {}
        }
      ]
    },
    {
      "cell_type": "markdown",
      "metadata": {
        "id": "HHoW7yZXmWdn"
      },
      "source": [
        "## Durée des sessions\n",
        "\n",
        "Calculer la durée de chaque session."
      ]
    },
    {
      "cell_type": "code",
      "metadata": {
        "id": "ixBlj4PUer5l",
        "colab": {
          "base_uri": "https://localhost:8080/",
          "height": 452
        },
        "outputId": "aaeddb92-3461-4709-c44e-dfc97ff45281"
      },
      "source": [
        "# On calcule la date minimum et maximum de chaque session\n",
        "sessions_duration = data_sessions \\\n",
        "    .groupBy(\"user_session\") \\\n",
        "    .agg(\n",
        "        func.max(\"event_time\").alias(\"max\"),\n",
        "        func.min(\"event_time\").alias(\"min\")\n",
        "    ) \\\n",
        "    .withColumn(\n",
        "        \"duration\",\n",
        "        func.col(\"max\").cast(\"int\") - func.col(\"min\").cast(\"int\")\n",
        "    ) \\\n",
        "    .toPandas()\n",
        "sessions_duration.head(n=10)"
      ],
      "execution_count": 15,
      "outputs": [
        {
          "output_type": "stream",
          "name": "stderr",
          "text": [
            "/usr/local/lib/python3.10/dist-packages/pyspark/sql/pandas/conversion.py:251: FutureWarning: Passing unit-less datetime64 dtype to .astype is deprecated and will raise in a future version. Pass 'datetime64[ns]' instead\n",
            "  series = series.astype(t, copy=False)\n",
            "/usr/local/lib/python3.10/dist-packages/pyspark/sql/pandas/conversion.py:251: FutureWarning: Passing unit-less datetime64 dtype to .astype is deprecated and will raise in a future version. Pass 'datetime64[ns]' instead\n",
            "  series = series.astype(t, copy=False)\n"
          ]
        },
        {
          "output_type": "execute_result",
          "data": {
            "text/plain": [
              "                           user_session                 max  \\\n",
              "0  c3012f56-70f3-4198-960d-5f14467c0a53 2019-10-01 00:03:35   \n",
              "1  2af9b570-0942-4dcd-8f25-4d84fba82553 2019-10-01 00:09:54   \n",
              "2  78c0b329-af93-44fa-966d-08d7c69a37b1 2019-10-01 00:13:26   \n",
              "3  c7e588c7-78a9-4033-9326-562f7ad76eda 2019-10-01 02:18:59   \n",
              "4  a6b41834-75dd-4cd5-ace6-cbe1a4fe54df 2019-10-01 02:24:02   \n",
              "5  898ff23f-fc70-4239-879d-4ef9226cd6db 2019-10-01 02:30:26   \n",
              "6  85881243-7b33-4098-8418-a2fc9a3c2e05 2019-10-01 02:25:47   \n",
              "7  b36c1441-930a-4a6f-8222-b59d1faf3554 2019-10-01 02:24:22   \n",
              "8  fa1df743-4ef7-4273-b3e3-50a6c7c6671c 2019-10-01 03:20:31   \n",
              "9  ce054142-5e1d-4ed7-9c99-5ef5627b424a 2019-10-01 02:28:32   \n",
              "\n",
              "                  min  duration  \n",
              "0 2019-10-01 00:03:35         0  \n",
              "1 2019-10-01 00:06:31       203  \n",
              "2 2019-10-01 00:13:26         0  \n",
              "3 2019-10-01 02:18:49        10  \n",
              "4 2019-10-01 02:23:02        60  \n",
              "5 2019-10-01 02:23:46       400  \n",
              "6 2019-10-01 02:24:02       105  \n",
              "7 2019-10-01 02:24:22         0  \n",
              "8 2019-10-01 02:25:56      3275  \n",
              "9 2019-10-01 02:27:56        36  "
            ],
            "text/html": [
              "\n",
              "  <div id=\"df-8ce2f18e-6e21-4da4-899d-e452d587e44a\">\n",
              "    <div class=\"colab-df-container\">\n",
              "      <div>\n",
              "<style scoped>\n",
              "    .dataframe tbody tr th:only-of-type {\n",
              "        vertical-align: middle;\n",
              "    }\n",
              "\n",
              "    .dataframe tbody tr th {\n",
              "        vertical-align: top;\n",
              "    }\n",
              "\n",
              "    .dataframe thead th {\n",
              "        text-align: right;\n",
              "    }\n",
              "</style>\n",
              "<table border=\"1\" class=\"dataframe\">\n",
              "  <thead>\n",
              "    <tr style=\"text-align: right;\">\n",
              "      <th></th>\n",
              "      <th>user_session</th>\n",
              "      <th>max</th>\n",
              "      <th>min</th>\n",
              "      <th>duration</th>\n",
              "    </tr>\n",
              "  </thead>\n",
              "  <tbody>\n",
              "    <tr>\n",
              "      <th>0</th>\n",
              "      <td>c3012f56-70f3-4198-960d-5f14467c0a53</td>\n",
              "      <td>2019-10-01 00:03:35</td>\n",
              "      <td>2019-10-01 00:03:35</td>\n",
              "      <td>0</td>\n",
              "    </tr>\n",
              "    <tr>\n",
              "      <th>1</th>\n",
              "      <td>2af9b570-0942-4dcd-8f25-4d84fba82553</td>\n",
              "      <td>2019-10-01 00:09:54</td>\n",
              "      <td>2019-10-01 00:06:31</td>\n",
              "      <td>203</td>\n",
              "    </tr>\n",
              "    <tr>\n",
              "      <th>2</th>\n",
              "      <td>78c0b329-af93-44fa-966d-08d7c69a37b1</td>\n",
              "      <td>2019-10-01 00:13:26</td>\n",
              "      <td>2019-10-01 00:13:26</td>\n",
              "      <td>0</td>\n",
              "    </tr>\n",
              "    <tr>\n",
              "      <th>3</th>\n",
              "      <td>c7e588c7-78a9-4033-9326-562f7ad76eda</td>\n",
              "      <td>2019-10-01 02:18:59</td>\n",
              "      <td>2019-10-01 02:18:49</td>\n",
              "      <td>10</td>\n",
              "    </tr>\n",
              "    <tr>\n",
              "      <th>4</th>\n",
              "      <td>a6b41834-75dd-4cd5-ace6-cbe1a4fe54df</td>\n",
              "      <td>2019-10-01 02:24:02</td>\n",
              "      <td>2019-10-01 02:23:02</td>\n",
              "      <td>60</td>\n",
              "    </tr>\n",
              "    <tr>\n",
              "      <th>5</th>\n",
              "      <td>898ff23f-fc70-4239-879d-4ef9226cd6db</td>\n",
              "      <td>2019-10-01 02:30:26</td>\n",
              "      <td>2019-10-01 02:23:46</td>\n",
              "      <td>400</td>\n",
              "    </tr>\n",
              "    <tr>\n",
              "      <th>6</th>\n",
              "      <td>85881243-7b33-4098-8418-a2fc9a3c2e05</td>\n",
              "      <td>2019-10-01 02:25:47</td>\n",
              "      <td>2019-10-01 02:24:02</td>\n",
              "      <td>105</td>\n",
              "    </tr>\n",
              "    <tr>\n",
              "      <th>7</th>\n",
              "      <td>b36c1441-930a-4a6f-8222-b59d1faf3554</td>\n",
              "      <td>2019-10-01 02:24:22</td>\n",
              "      <td>2019-10-01 02:24:22</td>\n",
              "      <td>0</td>\n",
              "    </tr>\n",
              "    <tr>\n",
              "      <th>8</th>\n",
              "      <td>fa1df743-4ef7-4273-b3e3-50a6c7c6671c</td>\n",
              "      <td>2019-10-01 03:20:31</td>\n",
              "      <td>2019-10-01 02:25:56</td>\n",
              "      <td>3275</td>\n",
              "    </tr>\n",
              "    <tr>\n",
              "      <th>9</th>\n",
              "      <td>ce054142-5e1d-4ed7-9c99-5ef5627b424a</td>\n",
              "      <td>2019-10-01 02:28:32</td>\n",
              "      <td>2019-10-01 02:27:56</td>\n",
              "      <td>36</td>\n",
              "    </tr>\n",
              "  </tbody>\n",
              "</table>\n",
              "</div>\n",
              "      <button class=\"colab-df-convert\" onclick=\"convertToInteractive('df-8ce2f18e-6e21-4da4-899d-e452d587e44a')\"\n",
              "              title=\"Convert this dataframe to an interactive table.\"\n",
              "              style=\"display:none;\">\n",
              "        \n",
              "  <svg xmlns=\"http://www.w3.org/2000/svg\" height=\"24px\"viewBox=\"0 0 24 24\"\n",
              "       width=\"24px\">\n",
              "    <path d=\"M0 0h24v24H0V0z\" fill=\"none\"/>\n",
              "    <path d=\"M18.56 5.44l.94 2.06.94-2.06 2.06-.94-2.06-.94-.94-2.06-.94 2.06-2.06.94zm-11 1L8.5 8.5l.94-2.06 2.06-.94-2.06-.94L8.5 2.5l-.94 2.06-2.06.94zm10 10l.94 2.06.94-2.06 2.06-.94-2.06-.94-.94-2.06-.94 2.06-2.06.94z\"/><path d=\"M17.41 7.96l-1.37-1.37c-.4-.4-.92-.59-1.43-.59-.52 0-1.04.2-1.43.59L10.3 9.45l-7.72 7.72c-.78.78-.78 2.05 0 2.83L4 21.41c.39.39.9.59 1.41.59.51 0 1.02-.2 1.41-.59l7.78-7.78 2.81-2.81c.8-.78.8-2.07 0-2.86zM5.41 20L4 18.59l7.72-7.72 1.47 1.35L5.41 20z\"/>\n",
              "  </svg>\n",
              "      </button>\n",
              "      \n",
              "  <style>\n",
              "    .colab-df-container {\n",
              "      display:flex;\n",
              "      flex-wrap:wrap;\n",
              "      gap: 12px;\n",
              "    }\n",
              "\n",
              "    .colab-df-convert {\n",
              "      background-color: #E8F0FE;\n",
              "      border: none;\n",
              "      border-radius: 50%;\n",
              "      cursor: pointer;\n",
              "      display: none;\n",
              "      fill: #1967D2;\n",
              "      height: 32px;\n",
              "      padding: 0 0 0 0;\n",
              "      width: 32px;\n",
              "    }\n",
              "\n",
              "    .colab-df-convert:hover {\n",
              "      background-color: #E2EBFA;\n",
              "      box-shadow: 0px 1px 2px rgba(60, 64, 67, 0.3), 0px 1px 3px 1px rgba(60, 64, 67, 0.15);\n",
              "      fill: #174EA6;\n",
              "    }\n",
              "\n",
              "    [theme=dark] .colab-df-convert {\n",
              "      background-color: #3B4455;\n",
              "      fill: #D2E3FC;\n",
              "    }\n",
              "\n",
              "    [theme=dark] .colab-df-convert:hover {\n",
              "      background-color: #434B5C;\n",
              "      box-shadow: 0px 1px 3px 1px rgba(0, 0, 0, 0.15);\n",
              "      filter: drop-shadow(0px 1px 2px rgba(0, 0, 0, 0.3));\n",
              "      fill: #FFFFFF;\n",
              "    }\n",
              "  </style>\n",
              "\n",
              "      <script>\n",
              "        const buttonEl =\n",
              "          document.querySelector('#df-8ce2f18e-6e21-4da4-899d-e452d587e44a button.colab-df-convert');\n",
              "        buttonEl.style.display =\n",
              "          google.colab.kernel.accessAllowed ? 'block' : 'none';\n",
              "\n",
              "        async function convertToInteractive(key) {\n",
              "          const element = document.querySelector('#df-8ce2f18e-6e21-4da4-899d-e452d587e44a');\n",
              "          const dataTable =\n",
              "            await google.colab.kernel.invokeFunction('convertToInteractive',\n",
              "                                                     [key], {});\n",
              "          if (!dataTable) return;\n",
              "\n",
              "          const docLinkHtml = 'Like what you see? Visit the ' +\n",
              "            '<a target=\"_blank\" href=https://colab.research.google.com/notebooks/data_table.ipynb>data table notebook</a>'\n",
              "            + ' to learn more about interactive tables.';\n",
              "          element.innerHTML = '';\n",
              "          dataTable['output_type'] = 'display_data';\n",
              "          await google.colab.output.renderOutput(dataTable, element);\n",
              "          const docLink = document.createElement('div');\n",
              "          docLink.innerHTML = docLinkHtml;\n",
              "          element.appendChild(docLink);\n",
              "        }\n",
              "      </script>\n",
              "    </div>\n",
              "  </div>\n",
              "  "
            ]
          },
          "metadata": {},
          "execution_count": 15
        }
      ]
    },
    {
      "cell_type": "code",
      "metadata": {
        "id": "SPhw7ZYXmciR",
        "colab": {
          "base_uri": "https://localhost:8080/",
          "height": 850
        },
        "outputId": "a1683d1a-a152-46e6-b937-ce9493903369"
      },
      "source": [
        "sessions_duration_sample = sessions_duration.loc[sessions_duration[\"duration\"] < 3600, \"duration\"].sample(100000)\n",
        "\n",
        "plt.figure(figsize=(16, 10))\n",
        "sns.histplot(sessions_duration_sample, stat=\"density\", bins=80)\n",
        "plt.show()"
      ],
      "execution_count": 16,
      "outputs": [
        {
          "output_type": "display_data",
          "data": {
            "text/plain": [
              "<Figure size 1600x1000 with 1 Axes>"
            ],
            "image/png": "[encoded data removed]"
          },
          "metadata": {}
        }
      ]
    },
    {
      "cell_type": "code",
      "metadata": {
        "id": "uSGwpcbPokMD",
        "colab": {
          "base_uri": "https://localhost:8080/",
          "height": 850
        },
        "outputId": "b9a1b9ea-437c-4c1a-a24e-29006d593d5d"
      },
      "source": [
        "sessions_duration_sample = sessions_duration.loc[\n",
        "  (sessions_duration[\"duration\"] > 0) & (sessions_duration[\"duration\"] < 3600),\n",
        "  \"duration\"] \\\n",
        "  .sample(100000)\n",
        "\n",
        "plt.figure(figsize=(16, 10))\n",
        "sns.histplot(sessions_duration_sample, stat=\"density\", bins=80)\n",
        "plt.show()"
      ],
      "execution_count": 17,
      "outputs": [
        {
          "output_type": "display_data",
          "data": {
            "text/plain": [
              "<Figure size 1600x1000 with 1 Axes>"
            ],
            "image/png": "[encoded data removed]"
          },
          "metadata": {}
        }
      ]
    }
  ]
}